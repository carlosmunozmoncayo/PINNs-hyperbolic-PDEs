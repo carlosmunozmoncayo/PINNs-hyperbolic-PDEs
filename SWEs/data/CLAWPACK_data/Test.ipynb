{
 "cells": [
  {
   "cell_type": "code",
   "execution_count": 1,
   "metadata": {},
   "outputs": [],
   "source": [
    "from dam_break import setup as clawpack_setup\n",
    "import numpy as np\n",
    "import matplotlib.pyplot as plt\n",
    "\n",
    "def generate_claw():\n",
    "    claw = clawpack_setup()\n",
    "    claw.verbosity= 0\n",
    "    claw.run()\n",
    "    return claw\n",
    "\n",
    "def construct_data_dictionaries(claw):\n",
    "    frames = claw.frames\n",
    "    data_dict = {}\n",
    "    data_dict[\"x\"] = (claw.frames[0].state.grid.x.centers).reshape(-1,1)\n",
    "    t_list = []\n",
    "    usol_list = []\n",
    "    for i in range(len(frames)):\n",
    "        t_list.append(frames[i].t)\n",
    "        usol_list.append(frames[i].state.q.T)\n",
    "\n",
    "    data_dict[\"t\"] = np.array(t_list).reshape(-1,1)\n",
    "    data_dict[\"usol\"] = np.array(usol_list)\n",
    "    return data_dict\n",
    "\n",
    "def write_data_dict():\n",
    "    #Meant to be run locally\n",
    "    claw = generate_claw()\n",
    "    data_dict = construct_data_dictionaries(claw)\n",
    "    np.save(\"../SWEs_data_CLAWPACK.npy\", data_dict)\n",
    "\n",
    "def read_data_dict():\n",
    "    #Meant to be run locally\n",
    "    data_dict = np.load(\"../SWEs_data_CLAWPACK.npy\", allow_pickle=True).item()\n",
    "    return data_dict"
   ]
  },
  {
   "cell_type": "code",
   "execution_count": 2,
   "metadata": {},
   "outputs": [],
   "source": [
    "write_data_dict()"
   ]
  },
  {
   "cell_type": "code",
   "execution_count": 7,
   "metadata": {},
   "outputs": [],
   "source": [
    "data = read_data_dict()"
   ]
  },
  {
   "cell_type": "code",
   "execution_count": 8,
   "metadata": {},
   "outputs": [],
   "source": [
    "t = data['t'].flatten()[:,None]\n",
    "x = data['x'].flatten()[:,None]\n",
    "Exact = np.real(data['usol'])"
   ]
  },
  {
   "cell_type": "code",
   "execution_count": 9,
   "metadata": {},
   "outputs": [
    {
     "data": {
      "text/plain": [
       "(101, 1)"
      ]
     },
     "execution_count": 9,
     "metadata": {},
     "output_type": "execute_result"
    }
   ],
   "source": [
    "t.shape"
   ]
  },
  {
   "cell_type": "code",
   "execution_count": 12,
   "metadata": {},
   "outputs": [
    {
     "data": {
      "text/plain": [
       "(101, 1000, 2)"
      ]
     },
     "execution_count": 12,
     "metadata": {},
     "output_type": "execute_result"
    }
   ],
   "source": [
    "Exact.shape"
   ]
  },
  {
   "cell_type": "code",
   "execution_count": 14,
   "metadata": {},
   "outputs": [],
   "source": [
    "X, T = np.meshgrid(x,t)\n",
    "X_star = np.hstack((X.flatten()[:,None], T.flatten()[:,None]))"
   ]
  },
  {
   "cell_type": "code",
   "execution_count": 15,
   "metadata": {},
   "outputs": [
    {
     "data": {
      "text/plain": [
       "(101000, 2)"
      ]
     },
     "execution_count": 15,
     "metadata": {},
     "output_type": "execute_result"
    }
   ],
   "source": [
    "X_star.shape"
   ]
  },
  {
   "cell_type": "code",
   "execution_count": 25,
   "metadata": {},
   "outputs": [
    {
     "data": {
      "text/plain": [
       "(101, 1000, 2)"
      ]
     },
     "execution_count": 25,
     "metadata": {},
     "output_type": "execute_result"
    }
   ],
   "source": [
    "Exact.shape"
   ]
  },
  {
   "cell_type": "code",
   "execution_count": 30,
   "metadata": {},
   "outputs": [],
   "source": [
    "q = Exact[:,:,1].flatten()[:,None]\n",
    "h = Exact[:,:,0].flatten()[:,None]"
   ]
  },
  {
   "cell_type": "code",
   "execution_count": 33,
   "metadata": {},
   "outputs": [],
   "source": [
    "u_star = np.hstack((h,q))"
   ]
  },
  {
   "cell_type": "code",
   "execution_count": 34,
   "metadata": {},
   "outputs": [
    {
     "data": {
      "text/plain": [
       "(101000, 2)"
      ]
     },
     "execution_count": 34,
     "metadata": {},
     "output_type": "execute_result"
    }
   ],
   "source": [
    "u_star.shape"
   ]
  },
  {
   "cell_type": "code",
   "execution_count": 35,
   "metadata": {},
   "outputs": [
    {
     "data": {
      "text/plain": [
       "(101000, 1)"
      ]
     },
     "execution_count": 35,
     "metadata": {},
     "output_type": "execute_result"
    }
   ],
   "source": [
    "q.shape"
   ]
  },
  {
   "cell_type": "code",
   "execution_count": 37,
   "metadata": {},
   "outputs": [
    {
     "data": {
      "text/plain": [
       "(1, 1000, 2)"
      ]
     },
     "execution_count": 37,
     "metadata": {},
     "output_type": "execute_result"
    }
   ],
   "source": [
    "Exact[0:1,:,:].shape"
   ]
  },
  {
   "cell_type": "code",
   "execution_count": 68,
   "metadata": {},
   "outputs": [],
   "source": [
    "xx1 = np.hstack((X[0:1,:].T, T[0:1,:].T)) # each row contains [x,t=0]\n",
    "uu1 = Exact[0:1,:,:] # each row contains u(x,t=0)\n",
    "xx2 = np.hstack((X[:,0:1], T[:,0:1])) # each row contains [x=-1,t]\n",
    "uu2 = Exact[:,0:1,:] # each row contains u(x=-1,t)\n",
    "xx3 = np.hstack((X[:,-1:], T[:,-1:])) # each row contains [x=1,t]\n",
    "uu3 = Exact[:,-1:,:] # each row contains u(x=1,t)"
   ]
  },
  {
   "cell_type": "code",
   "execution_count": 72,
   "metadata": {},
   "outputs": [
    {
     "data": {
      "text/plain": [
       "(1000, 1, 2)"
      ]
     },
     "execution_count": 72,
     "metadata": {},
     "output_type": "execute_result"
    }
   ],
   "source": [
    "#Taking care of shapes\n",
    "hh1 = uu1[:,:,0].flatten()[:,None]\n",
    "qq1 = uu1[:,:,1].flatten()[:,None]\n",
    "# Expand dimensions to shape (1000,1,1)\n",
    "hh1_expanded = hh1[:, :, np.newaxis]\n",
    "qq1_expanded = qq1[:, :, np.newaxis]\n",
    "uu1 = np.concatenate((hh1_expanded, qq1_expanded), axis=2)\n",
    "\n",
    "\n"
   ]
  },
  {
   "cell_type": "code",
   "execution_count": 51,
   "metadata": {},
   "outputs": [
    {
     "data": {
      "text/plain": [
       "(101, 1, 2)"
      ]
     },
     "execution_count": 51,
     "metadata": {},
     "output_type": "execute_result"
    }
   ],
   "source": [
    "#uu1.shape\n",
    "uu2.shape\n",
    "uu3.shape"
   ]
  },
  {
   "cell_type": "code",
   "execution_count": 45,
   "metadata": {},
   "outputs": [
    {
     "data": {
      "text/plain": [
       "(1202, 2)"
      ]
     },
     "execution_count": 45,
     "metadata": {},
     "output_type": "execute_result"
    }
   ],
   "source": [
    "#Stack vertically to obtain training data\n",
    "X_u_train = np.vstack([xx1, xx2, xx3])\n",
    "X_u_train.shape\n"
   ]
  },
  {
   "cell_type": "code",
   "execution_count": 73,
   "metadata": {},
   "outputs": [],
   "source": [
    "u_train = np.vstack([uu1, uu2, uu3])"
   ]
  },
  {
   "cell_type": "code",
   "execution_count": 78,
   "metadata": {},
   "outputs": [
    {
     "ename": "AxisError",
     "evalue": "axis 1 is out of bounds for array of dimension 1",
     "output_type": "error",
     "traceback": [
      "\u001b[0;31m---------------------------------------------------------------------------\u001b[0m",
      "\u001b[0;31mAttributeError\u001b[0m                            Traceback (most recent call last)",
      "File \u001b[0;32m~/Library/Python/3.8/lib/python/site-packages/numpy/core/fromnumeric.py:1539\u001b[0m, in \u001b[0;36msqueeze\u001b[0;34m(a, axis)\u001b[0m\n\u001b[1;32m   1538\u001b[0m \u001b[39mtry\u001b[39;00m:\n\u001b[0;32m-> 1539\u001b[0m     squeeze \u001b[39m=\u001b[39m a\u001b[39m.\u001b[39;49msqueeze\n\u001b[1;32m   1540\u001b[0m \u001b[39mexcept\u001b[39;00m \u001b[39mAttributeError\u001b[39;00m:\n",
      "\u001b[0;31mAttributeError\u001b[0m: 'tuple' object has no attribute 'squeeze'",
      "\nDuring handling of the above exception, another exception occurred:\n",
      "\u001b[0;31mAxisError\u001b[0m                                 Traceback (most recent call last)",
      "\u001b[1;32m/Users/munozmca/Desktop/Coding_practice/PINNs/SWEs/data/CLAWPACK_data/Test.ipynb Cell 20\u001b[0m in \u001b[0;36m<cell line: 1>\u001b[0;34m()\u001b[0m\n\u001b[0;32m----> <a href='vscode-notebook-cell:/Users/munozmca/Desktop/Coding_practice/PINNs/SWEs/data/CLAWPACK_data/Test.ipynb#X25sZmlsZQ%3D%3D?line=0'>1</a>\u001b[0m u_train\u001b[39m=\u001b[39mnp\u001b[39m.\u001b[39;49msqueeze(u_train, axis\u001b[39m=\u001b[39;49m\u001b[39m1\u001b[39;49m)\u001b[39m.\u001b[39mshape\n\u001b[1;32m      <a href='vscode-notebook-cell:/Users/munozmca/Desktop/Coding_practice/PINNs/SWEs/data/CLAWPACK_data/Test.ipynb#X25sZmlsZQ%3D%3D?line=1'>2</a>\u001b[0m u_train\u001b[39m.\u001b[39mshape\n",
      "File \u001b[0;32m<__array_function__ internals>:180\u001b[0m, in \u001b[0;36msqueeze\u001b[0;34m(*args, **kwargs)\u001b[0m\n",
      "File \u001b[0;32m~/Library/Python/3.8/lib/python/site-packages/numpy/core/fromnumeric.py:1541\u001b[0m, in \u001b[0;36msqueeze\u001b[0;34m(a, axis)\u001b[0m\n\u001b[1;32m   1539\u001b[0m     squeeze \u001b[39m=\u001b[39m a\u001b[39m.\u001b[39msqueeze\n\u001b[1;32m   1540\u001b[0m \u001b[39mexcept\u001b[39;00m \u001b[39mAttributeError\u001b[39;00m:\n\u001b[0;32m-> 1541\u001b[0m     \u001b[39mreturn\u001b[39;00m _wrapit(a, \u001b[39m'\u001b[39;49m\u001b[39msqueeze\u001b[39;49m\u001b[39m'\u001b[39;49m, axis\u001b[39m=\u001b[39;49maxis)\n\u001b[1;32m   1542\u001b[0m \u001b[39mif\u001b[39;00m axis \u001b[39mis\u001b[39;00m \u001b[39mNone\u001b[39;00m:\n\u001b[1;32m   1543\u001b[0m     \u001b[39mreturn\u001b[39;00m squeeze()\n",
      "File \u001b[0;32m~/Library/Python/3.8/lib/python/site-packages/numpy/core/fromnumeric.py:43\u001b[0m, in \u001b[0;36m_wrapit\u001b[0;34m(obj, method, *args, **kwds)\u001b[0m\n\u001b[1;32m     41\u001b[0m \u001b[39mexcept\u001b[39;00m \u001b[39mAttributeError\u001b[39;00m:\n\u001b[1;32m     42\u001b[0m     wrap \u001b[39m=\u001b[39m \u001b[39mNone\u001b[39;00m\n\u001b[0;32m---> 43\u001b[0m result \u001b[39m=\u001b[39m \u001b[39mgetattr\u001b[39;49m(asarray(obj), method)(\u001b[39m*\u001b[39;49margs, \u001b[39m*\u001b[39;49m\u001b[39m*\u001b[39;49mkwds)\n\u001b[1;32m     44\u001b[0m \u001b[39mif\u001b[39;00m wrap:\n\u001b[1;32m     45\u001b[0m     \u001b[39mif\u001b[39;00m \u001b[39mnot\u001b[39;00m \u001b[39misinstance\u001b[39m(result, mu\u001b[39m.\u001b[39mndarray):\n",
      "\u001b[0;31mAxisError\u001b[0m: axis 1 is out of bounds for array of dimension 1"
     ]
    }
   ],
   "source": [
    "u_train=np.squeeze(u_train, axis=1).shape\n",
    "u_train.shape"
   ]
  },
  {
   "cell_type": "code",
   "execution_count": 75,
   "metadata": {},
   "outputs": [
    {
     "data": {
      "text/plain": [
       "(1202, 2)"
      ]
     },
     "execution_count": 75,
     "metadata": {},
     "output_type": "execute_result"
    }
   ],
   "source": [
    "X_u_train.shape"
   ]
  },
  {
   "cell_type": "code",
   "execution_count": 80,
   "metadata": {},
   "outputs": [],
   "source": [
    "xx1 = np.hstack((X[0:1,:].T, T[0:1,:].T)) # each row contains [x,t=0]\n",
    "uu1 = Exact[0:1,:,:] # each row contains u(x,t=0)\n",
    "xx2 = np.hstack((X[:,0:1], T[:,0:1])) # each row contains [x=-1,t]\n",
    "uu2 = Exact[:,0:1,:] # each row contains u(x=-1,t)\n",
    "xx3 = np.hstack((X[:,-1:], T[:,-1:])) # each row contains [x=1,t]\n",
    "uu3 = Exact[:,-1:,:] # each row contains u(x=1,t)\n",
    "\n",
    "#Taking care of shapes\n",
    "hh1 = uu1[:,:,0].flatten()[:,None]\n",
    "qq1 = uu1[:,:,1].flatten()[:,None]\n",
    "# Expand dimensions to shape (1000,1,1)\n",
    "hh1_expanded = hh1[:, :, np.newaxis]\n",
    "qq1_expanded = qq1[:, :, np.newaxis]\n",
    "uu1 = np.concatenate((hh1_expanded, qq1_expanded), axis=2)\n",
    "\n",
    "\n",
    "X_u_train = np.vstack([xx1, xx2, xx3])\n",
    "u_train = np.vstack([uu1, uu2, uu3])\n",
    "u_train=np.squeeze(u_train, axis=1)"
   ]
  },
  {
   "cell_type": "code",
   "execution_count": 81,
   "metadata": {},
   "outputs": [
    {
     "data": {
      "text/plain": [
       "(1202, 2)"
      ]
     },
     "execution_count": 81,
     "metadata": {},
     "output_type": "execute_result"
    }
   ],
   "source": [
    "X_u_train.shape"
   ]
  },
  {
   "cell_type": "code",
   "execution_count": 82,
   "metadata": {},
   "outputs": [
    {
     "data": {
      "text/plain": [
       "(1202, 2)"
      ]
     },
     "execution_count": 82,
     "metadata": {},
     "output_type": "execute_result"
    }
   ],
   "source": [
    "u_train.shape"
   ]
  },
  {
   "cell_type": "code",
   "execution_count": null,
   "metadata": {},
   "outputs": [],
   "source": []
  }
 ],
 "metadata": {
  "kernelspec": {
   "display_name": "3.8.9",
   "language": "python",
   "name": "pyenv_3.8.9"
  },
  "language_info": {
   "codemirror_mode": {
    "name": "ipython",
    "version": 3
   },
   "file_extension": ".py",
   "mimetype": "text/x-python",
   "name": "python",
   "nbconvert_exporter": "python",
   "pygments_lexer": "ipython3",
   "version": "3.8.9"
  },
  "orig_nbformat": 4,
  "vscode": {
   "interpreter": {
    "hash": "31f2aee4e71d21fbe5cf8b01ff0e069b9275f58929596ceb00d14d90e3e16cd6"
   }
  }
 },
 "nbformat": 4,
 "nbformat_minor": 2
}
